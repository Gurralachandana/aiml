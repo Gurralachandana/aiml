{
 "cells": [
  {
   "cell_type": "code",
   "execution_count": 1,
   "id": "c6c8a980",
   "metadata": {},
   "outputs": [],
   "source": [
    "greet = lambda name: print(f\"Good Morning {name}!\")"
   ]
  },
  {
   "cell_type": "code",
   "execution_count": 2,
   "id": "be655783",
   "metadata": {},
   "outputs": [
    {
     "name": "stdout",
     "output_type": "stream",
     "text": [
      "Good Morning chandana!\n"
     ]
    }
   ],
   "source": [
    "greet(\"chandana\")"
   ]
  },
  {
   "cell_type": "code",
   "execution_count": 13,
   "id": "3e9f3295",
   "metadata": {},
   "outputs": [],
   "source": [
    "#write a lambda function to calculate the average 3 numbers\n",
    "avg = lambda A,B,C: A*B*C"
   ]
  },
  {
   "cell_type": "code",
   "execution_count": 14,
   "id": "e2c85750",
   "metadata": {},
   "outputs": [
    {
     "data": {
      "text/plain": [
       "60000"
      ]
     },
     "execution_count": 14,
     "metadata": {},
     "output_type": "execute_result"
    }
   ],
   "source": [
    "avg(30,40,50)"
   ]
  },
  {
   "cell_type": "code",
   "execution_count": 21,
   "id": "405423c7",
   "metadata": {},
   "outputs": [
    {
     "data": {
      "text/plain": [
       "[100, 2, 4, 6]"
      ]
     },
     "execution_count": 21,
     "metadata": {},
     "output_type": "execute_result"
    }
   ],
   "source": [
    "#lambda functions with list comprehension for even\n",
    "my_list = [ 100,2,4,6,3,5]\n",
    "even = lambda L : [x for x in L if x%2 ==0] \n",
    "even(my_list)"
   ]
  },
  {
   "cell_type": "code",
   "execution_count": 22,
   "id": "435e17d4",
   "metadata": {},
   "outputs": [
    {
     "data": {
      "text/plain": [
       "[3, 5]"
      ]
     },
     "execution_count": 22,
     "metadata": {},
     "output_type": "execute_result"
    }
   ],
   "source": [
    "#lambda functions with list comprehension for odd\n",
    "my_list = [ 100,2,4,6,3,5]\n",
    "odd = lambda L : [x for x in L if x%2 !=0] \n",
    "odd(my_list)"
   ]
  },
  {
   "cell_type": "code",
   "execution_count": 28,
   "id": "fc30a310",
   "metadata": {},
   "outputs": [],
   "source": [
    "def mean_value(*n):\n",
    "    sum = 0\n",
    "    counter = 0\n",
    "    for x in n:\n",
    "        counter = counter + 1\n",
    "        sum += x\n",
    "    mean = sum/counter\n",
    "    return mean"
   ]
  },
  {
   "cell_type": "code",
   "execution_count": 34,
   "id": "79465e52",
   "metadata": {},
   "outputs": [
    {
     "data": {
      "text/plain": [
       "35.0"
      ]
     },
     "execution_count": 34,
     "metadata": {},
     "output_type": "execute_result"
    }
   ],
   "source": [
    "mean_value(20,30,40,50)"
   ]
  },
  {
   "cell_type": "code",
   "execution_count": 32,
   "id": "71258fc1",
   "metadata": {},
   "outputs": [],
   "source": [
    "def product(*n):\n",
    "    result = 1\n",
    "    for i in range(len(n)):\n",
    "        result *= n[i]\n",
    "    return result"
   ]
  },
  {
   "cell_type": "code",
   "execution_count": 36,
   "id": "14d1bca3",
   "metadata": {},
   "outputs": [
    {
     "data": {
      "text/plain": [
       "600000"
      ]
     },
     "execution_count": 36,
     "metadata": {},
     "output_type": "execute_result"
    }
   ],
   "source": [
    "product(50*30*40*10)"
   ]
  },
  {
   "cell_type": "code",
   "execution_count": null,
   "id": "d74dcf95",
   "metadata": {},
   "outputs": [],
   "source": []
  }
 ],
 "metadata": {
  "kernelspec": {
   "display_name": "Python 3 (ipykernel)",
   "language": "python",
   "name": "python3"
  },
  "language_info": {
   "codemirror_mode": {
    "name": "ipython",
    "version": 3
   },
   "file_extension": ".py",
   "mimetype": "text/x-python",
   "name": "python",
   "nbconvert_exporter": "python",
   "pygments_lexer": "ipython3",
   "version": "3.7.0"
  }
 },
 "nbformat": 4,
 "nbformat_minor": 5
}
